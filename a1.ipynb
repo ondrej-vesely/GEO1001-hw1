{
  "cells": [
    {
      "cell_type": "code",
      "source": [
        "import numpy as np\n",
        "import matplotlib.pyplot as plt\t\n",
        "\n",
        "from _data import *\n",
        "\n",
        "heat_a['Crosswind Speed']['values']"
      ],
      "outputs": [
        {
          "output_type": "execute_result",
          "execution_count": 22,
          "data": {
            "text/plain": "array([0.4, 0.4, 0, ..., 0.8, 0.7, 0.9], dtype=object)"
          },
          "metadata": {}
        }
      ],
      "execution_count": 22,
      "metadata": {
        "collapsed": true,
        "jupyter": {
          "source_hidden": false,
          "outputs_hidden": true
        },
        "nteract": {
          "transient": {
            "deleting": false
          }
        },
        "execution": {
          "iopub.status.busy": "2020-09-16T12:43:50.372Z",
          "iopub.execute_input": "2020-09-16T12:43:50.376Z",
          "iopub.status.idle": "2020-09-16T12:43:50.387Z",
          "shell.execute_reply": "2020-09-16T12:43:50.405Z"
        }
      }
    },
    {
      "cell_type": "code",
      "source": [
        "for sensor_name, sensor in data.items():\n",
        "  print('\\n', sensor_name, '_'*70, '\\n')\n",
        "  \n",
        "  for name, measure in sensor.items():\n",
        "    if name != 'FORMATTED DATE-TIME':\n",
        "      print(\"  %s [%s]:\" % (name, measure['units']))\n",
        "      v = measure['values']\n",
        "      print(\"    mean = %s  var = %s  st.var. = %s\" % (v.mean(), v.var(), v.std()))\n",
        "  "
      ],
      "outputs": [
        {
          "output_type": "stream",
          "name": "stdout",
          "text": [
            "\n",
            " Sensor A ______________________________________________________________________ \n",
            "\n",
            "  Direction ‚ True [nan]:\n",
            "    mean = 209.40630048465266  var = 10104.857537040567  st.var. = 100.52292045618535\n",
            "  Wind Speed [m/s]:\n",
            "    mean = 1.2903069466882062  var = 1.2506491788047214  st.var. = 1.1183242726529374\n",
            "  Crosswind Speed [m/s]:\n",
            "    mean = 0.9649434571890154  var = 0.9262185347673629  st.var. = 0.9624024806531636\n",
            "  Headwind Speed [m/s]:\n",
            "    mean = 0.16352988691437784  var = 1.034522111788522  st.var. = 1.017114601108706\n",
            "  Temperature [¬∞C]:\n",
            "    mean = 17.969103392568652  var = 15.857862039390799  st.var. = 3.9821931192988114\n",
            "  Globe Temperature [¬∞C]:\n",
            "    mean = 21.544588045234246  var = 68.16381158312034  st.var. = 8.25613781275\n",
            "  Wind Chill [¬∞C]:\n",
            "    mean = 17.838206785137345  var = 16.257877882926405  st.var. = 4.032105886869342\n",
            "  Relative Humidity [%]:\n",
            "    mean = 78.18477382875601  var = 375.85819708132095  st.var. = 19.38706262127713\n",
            "  Heat Stress Index [¬∞C]:\n",
            "    mean = 17.899596122778664  var = 14.990791436237025  st.var. = 3.8717943432260222\n",
            "  Dew Point [¬∞C]:\n",
            "    mean = 13.553877221324706  var = 9.719544740983574  st.var. = 3.1176184405702334\n",
            "  Psychro Wet Bulb Temperature [¬∞C]:\n",
            "    mean = 15.270718901453922  var = 6.94122258495776  st.var. = 2.63462000769708\n",
            "  Station Pressure [mb]:\n",
            "    mean = 1016.168255250404  var = 38.45572894292492  st.var. = 6.201268333407684\n",
            "  Barometric Pressure [mb]:\n",
            "    mean = 1016.1284329563692  var = 38.45241450721762  st.var. = 6.201001089115984\n",
            "  Altitude [m]:\n",
            "    mean = -25.98707592891761  var = 2662.5652610782413  st.var. = 51.60005097941514\n",
            "  Density Altitude [m]:\n",
            "    mean = 137.31663974151857  var = 26499.337542182067  st.var. = 162.78617122526737\n",
            "  NA Wet Bulb Temperature [¬∞C]:\n",
            "    mean = 15.981542810985415  var = 10.008064017149453  st.var. = 3.163552436288903\n",
            "  WBGT [¬∞C]:\n",
            "    mean = 17.25432148626817  var = 16.128741421686946  st.var. = 4.016060435512263\n",
            "  TWL [w/m^2 ]:\n",
            "    mean = 301.39293214862704  var = 814.4374985107657  st.var. = 28.538351362872483\n",
            "  Direction ‚ Mag [¬∞]:\n",
            "    mean = 208.90508885298868  var = 10101.595596074521  st.var. = 100.50669428488095\n",
            "\n",
            " Sensor B ______________________________________________________________________ \n",
            "\n",
            "  Direction ‚ True [¬∞]:\n",
            "    mean = 183.41235864297255  var = 9973.188199444905  st.var. = 99.86585101747697\n",
            "  Wind Speed [m/s]:\n",
            "    mean = 1.2421243941841686  var = 1.3009759392918272  st.var. = 1.140603322497277\n",
            "  Crosswind Speed [m/s]:\n",
            "    mean = 0.8356219709208397  var = 0.8782302674332776  st.var. = 0.9371394066163676\n",
            "  Headwind Speed [m/s]:\n",
            "    mean = -0.12980613893376414  var = 1.2562117556327648  st.var. = 1.1208085276409905\n",
            "  Temperature [¬∞C]:\n",
            "    mean = 18.065428109854604  var = 16.622350826414987  st.var. = 4.0770517321239605\n",
            "  Globe Temperature [¬∞C]:\n",
            "    mean = 21.799434571890156  var = 66.02264103731868  st.var. = 8.125431744671706\n",
            "  Wind Chill [¬∞C]:\n",
            "    mean = 17.94592084006461  var = 17.028945395995414  st.var. = 4.126614277588277\n",
            "  Relative Humidity [%]:\n",
            "    mean = 77.87831179321493  var = 408.45797469438213  st.var. = 20.210343260181954\n",
            "  Heat Stress Index [¬∞C]:\n",
            "    mean = 18.004281098546024  var = 15.432921898366516  st.var. = 3.92847577291327\n",
            "  Dew Point [¬∞C]:\n",
            "    mean = 13.530856219709221  var = 9.632626245886147  st.var. = 3.1036472489453675\n",
            "  Psychro Wet Bulb Temperature [¬∞C]:\n",
            "    mean = 15.295516962843259  var = 6.767528367644319  st.var. = 2.6014473601524823\n",
            "  Station Pressure [mb]:\n",
            "    mean = 1016.6570274636506  var = 36.827054815077595  st.var. = 6.068529872636172\n",
            "  Barometric Pressure [mb]:\n",
            "    mean = 1016.6164781906178  var = 36.81399341269075  st.var. = 6.067453618503461\n",
            "  Altitude [m]:\n",
            "    mean = -30.05815831987076  var = 2544.6799778683135  st.var. = 50.44482112039167\n",
            "  Density Altitude [m]:\n",
            "    mean = 135.58077544426493  var = 26852.460761272716  st.var. = 163.86720465447843\n",
            "  NA Wet Bulb Temperature [¬∞C]:\n",
            "    mean = 15.996809369951551  var = 9.805292727795933  st.var. = 3.1313404043310165\n",
            "  WBGT [¬∞C]:\n",
            "    mean = 17.321970920840037  var = 15.828959928072022  st.var. = 3.9785625454518145\n",
            "  TWL [w/m^2 ]:\n",
            "    mean = 299.45169628432944  var = 789.7501304020811  st.var. = 28.102493312908752\n",
            "  Direction ‚ Mag [¬∞]:\n",
            "    mean = 183.2172859450727  var = 9971.418053377041  st.var. = 99.85698800473125\n",
            "\n",
            " Sensor C ______________________________________________________________________ \n",
            "\n",
            "  Direction ‚ True [¬∞]:\n",
            "    mean = 183.58892481810832  var = 7700.24936804364  st.var. = 87.75106476871743\n",
            "  Wind Speed [m/s]:\n",
            "    mean = 1.3714632174616024  var = 1.4303416746777526  st.var. = 1.1959689271372198\n",
            "  Crosswind Speed [m/s]:\n",
            "    mean = 0.9632983023443815  var = 1.04215338959293  st.var. = 1.0208591428757103\n",
            "  Headwind Speed [m/s]:\n",
            "    mean = -0.26289409862570745  var = 1.2712181399570965  st.var. = 1.1274830996325829\n",
            "  Temperature [¬∞C]:\n",
            "    mean = 17.913136620856882  var = 16.09802872264439  st.var. = 4.012234878798148\n",
            "  Globe Temperature [¬∞C]:\n",
            "    mean = 21.587388843977312  var = 67.91384257555865  st.var. = 8.240985534240346\n",
            "  Wind Chill [¬∞C]:\n",
            "    mean = 17.772999191592564  var = 16.53443667987009  st.var. = 4.066255855190385\n",
            "  Relative Humidity [%]:\n",
            "    mean = 77.96285367825398  var = 374.4712191806891  st.var. = 19.35125885260928\n",
            "  Heat Stress Index [¬∞C]:\n",
            "    mean = 17.828253839935364  var = 15.350046506300911  st.var. = 3.9179135399215883\n",
            "  Dew Point [¬∞C]:\n",
            "    mean = 13.458124494745366  var = 10.080073442868036  st.var. = 3.174913139420988\n",
            "  Psychro Wet Bulb Temperature [¬∞C]:\n",
            "    mean = 15.196645109135003  var = 7.236387289573957  st.var. = 2.6900533990190523\n",
            "  Station Pressure [mb]:\n",
            "    mean = 1016.6893290218281  var = 37.676256380831084  st.var. = 6.138098759455658\n",
            "  Barometric Pressure [mb]:\n",
            "    mean = 1016.6518997574651  var = 37.66039453158435  st.var. = 6.1368065418085616\n",
            "  Altitude [m]:\n",
            "    mean = -30.338722716248988  var = 2607.48025479538  st.var. = 51.06349238737378\n",
            "  Density Altitude [m]:\n",
            "    mean = 129.62287793047696  var = 26975.69488484617  st.var. = 164.24279248979593\n",
            "  NA Wet Bulb Temperature [¬∞C]:\n",
            "    mean = 15.9342360549717  var = 10.476042928918233  st.var. = 3.2366715818751572\n",
            "  WBGT [¬∞C]:\n",
            "    mean = 17.22502021018598  var = 16.540057093366897  st.var. = 4.066946900731174\n",
            "  TWL [w/m^2 ]:\n",
            "    mean = 301.8997574777687  var = 766.2236781950156  st.var. = 27.680745622092907\n",
            "  Direction ‚ Mag [¬∞]:\n",
            "    mean = 183.08367016976555  var = 7701.5059338216815  st.var. = 87.75822430873178\n",
            "\n",
            " Sensor D ______________________________________________________________________ \n",
            "\n",
            "  Direction ‚ True [¬∞]:\n",
            "    mean = 198.32659660468877  var = 8130.60230798035  st.var. = 90.1698525449629\n",
            "  Wind Speed [m/s]:\n",
            "    mean = 1.5816491511721917  var = 1.7391135292898843  st.var. = 1.318754537163715\n",
            "  Crosswind Speed [m/s]:\n",
            "    mean = 1.2105092966855282  var = 1.4509162321285924  st.var. = 1.204539842482843\n",
            "  Headwind Speed [m/s]:\n",
            "    mean = -0.300565885206144  var = 1.2320045302185532  st.var. = 1.109956994760857\n",
            "  Temperature [¬∞C]:\n",
            "    mean = 17.99636216653193  var = 16.099081349837835  st.var. = 4.012366053818848\n",
            "  Globe Temperature [¬∞C]:\n",
            "    mean = 21.35929668552949  var = 61.177514622567756  st.var. = 7.821605629445131\n",
            "  Wind Chill [¬∞C]:\n",
            "    mean = 17.83536782538397  var = 16.55015978790568  st.var. = 4.0681887601125\n",
            "  Relative Humidity [%]:\n",
            "    mean = 77.942037186742  var = 389.6984592290205  st.var. = 19.74078162659778\n",
            "  Heat Stress Index [¬∞C]:\n",
            "    mean = 17.921624898949098  var = 15.111533172152948  st.var. = 3.8873555500047776\n",
            "  Dew Point [¬∞C]:\n",
            "    mean = 13.508609539207754  var = 10.067811890385954  st.var. = 3.172981545862811\n",
            "  Psychro Wet Bulb Temperature [¬∞C]:\n",
            "    mean = 15.260185933710556  var = 7.041555503019615  st.var. = 2.6535929422237343\n",
            "  Station Pressure [mb]:\n",
            "    mean = 1016.7280113177055  var = 34.973641396800105  st.var. = 5.913851654953826\n",
            "  Barometric Pressure [mb]:\n",
            "    mean = 1016.6888843977252  var = 34.938198997953855  st.var. = 5.910854337399447\n",
            "  Altitude [m]:\n",
            "    mean = -30.653193209377527  var = 2418.745529415378  st.var. = 49.18074348172644\n",
            "  Density Altitude [m]:\n",
            "    mean = 132.41107518189168  var = 26505.40781590134  st.var. = 162.8048150881949\n",
            "  NA Wet Bulb Temperature [¬∞C]:\n",
            "    mean = 15.915642683912703  var = 9.983397181945275  st.var. = 3.159651433614992\n",
            "  WBGT [¬∞C]:\n",
            "    mean = 17.17679870654811  var = 15.500916833369333  st.var. = 3.9371203732384576\n",
            "  TWL [w/m^2 ]:\n",
            "    mean = 305.2545675020211  var = 615.7608138186292  st.var. = 24.814528281203117\n",
            "  Direction ‚ Mag [¬∞]:\n",
            "    mean = 197.8261924009701  var = 8132.027187846568  st.var. = 90.17775328675343\n",
            "\n",
            " Sensor E ______________________________________________________________________ \n",
            "\n",
            "  Direction ‚ True [¬∞]:\n",
            "    mean = 223.95636363636365  var = 9304.52415647383  st.var. = 96.45996141650602\n",
            "  Wind Speed [m/s]:\n",
            "    mean = 0.5962424242424244  var = 0.5110202240587725  st.var. = 0.7148567856982071\n",
            "  Crosswind Speed [m/s]:\n",
            "    mean = 0.43850505050505023  var = 0.31581433078256965  st.var. = 0.5619736032791661\n",
            "  Headwind Speed [m/s]:\n",
            "    mean = 0.19494949494949476  var = 0.3189441893684239  st.var. = 0.5647514403420534\n",
            "  Temperature [¬∞C]:\n",
            "    mean = 18.353939393939395  var = 19.03543801652907  st.var. = 4.362962069114178\n",
            "  Globe Temperature [¬∞C]:\n",
            "    mean = 21.17616161616159  var = 63.189961024385646  st.var. = 7.949211346063561\n",
            "  Wind Chill [¬∞C]:\n",
            "    mean = 18.294020202020192  var = 19.129329898581812  st.var. = 4.373708940771186\n",
            "  Relative Humidity [%]:\n",
            "    mean = 76.79305050505036  var = 406.33022241159233  st.var. = 20.157634345616856\n",
            "  Heat Stress Index [¬∞C]:\n",
            "    mean = 18.28642424242426  var = 18.467775294766184  st.var. = 4.297414954919549\n",
            "  Dew Point [¬∞C]:\n",
            "    mean = 13.558787878787866  var = 9.418778328741954  st.var. = 3.069002823188984\n",
            "  Psychro Wet Bulb Temperature [¬∞C]:\n",
            "    mean = 15.406666666666647  var = 6.9946181818181525  st.var. = 2.6447340474645373\n",
            "  Station Pressure [mb]:\n",
            "    mean = 1016.1661010101001  var = 38.924180151413275  st.var. = 6.2389245989523925\n",
            "  Barometric Pressure [mb]:\n",
            "    mean = 1016.127797979786  var = 38.91944545413721  st.var. = 6.238545139224145\n",
            "  Altitude [m]:\n",
            "    mean = -25.96121212121212  var = 2691.2655662075395  st.var. = 51.87740901594392\n",
            "  Density Altitude [m]:\n",
            "    mean = 150.84  var = 29702.921470707082  st.var. = 172.34535523392293\n",
            "  NA Wet Bulb Temperature [¬∞C]:\n",
            "    mean = 15.936888888888825  var = 9.428372543209884  st.var. = 3.070565508698664\n",
            "  WBGT [¬∞C]:\n",
            "    mean = 17.185535353535325  var = 15.483612996224862  st.var. = 3.9349222350924373\n",
            "  TWL [w/m^2 ]:\n",
            "    mean = 284.11531313131275  var = 1289.3922059120848  st.var. = 35.908107801889045\n",
            "  Direction ‚ Mag [¬∞]:\n",
            "    mean = 223.89656565656566  var = 9264.26324073059  st.var. = 96.25104280334105\n"
          ]
        }
      ],
      "execution_count": 23,
      "metadata": {
        "collapsed": true,
        "jupyter": {
          "source_hidden": false,
          "outputs_hidden": false
        },
        "nteract": {
          "transient": {
            "deleting": false
          }
        },
        "execution": {
          "iopub.status.busy": "2020-09-16T12:43:50.392Z",
          "iopub.execute_input": "2020-09-16T12:43:50.399Z",
          "iopub.status.idle": "2020-09-16T12:43:50.455Z",
          "shell.execute_reply": "2020-09-16T12:43:50.540Z"
        }
      }
    },
    {
      "cell_type": "code",
      "source": [
        "variable = 'Temperature'\n",
        "bins = 5\n",
        "fig = plt.figure(figsize=(20,4))\n",
        "\n",
        "for i, (sensor_name, sensor) in enumerate(data.items()):\n",
        "    ax_index = int(100 + 10*len(data) + i + 1)\n",
        "    ax = fig.add_subplot(ax_index)\n",
        "    ax.hist(x=sensor[variable]['values'], \n",
        "            bins=bins, density=True, color='b',alpha=0.7, rwidth=0.85)\n",
        "    ax.set_xlabel('%s [%s]' % (variable, sensor[variable]['units']))\n",
        "    ax.set_ylabel('Frequency')\n",
        "    ax.set_title(sensor_name)\n",
        "    \n",
        "plt.tight_layout()\n",
        "plt.show()\n",
        "\n"
      ],
      "outputs": [
        {
          "output_type": "display_data",
          "data": {
            "text/plain": "<Figure size 1440x288 with 5 Axes>",
            "image/png": "[encoded data removed]"
          },
          "metadata": {
            "needs_background": "light"
          }
        }
      ],
      "execution_count": 60,
      "metadata": {
        "collapsed": true,
        "jupyter": {
          "source_hidden": false,
          "outputs_hidden": false
        },
        "nteract": {
          "transient": {
            "deleting": false
          }
        },
        "execution": {
          "iopub.status.busy": "2020-09-16T13:28:51.862Z",
          "iopub.execute_input": "2020-09-16T13:28:51.868Z",
          "iopub.status.idle": "2020-09-16T13:28:52.428Z",
          "shell.execute_reply": "2020-09-16T13:28:52.435Z"
        }
      }
    },
    {
      "cell_type": "code",
      "source": [],
      "outputs": [],
      "execution_count": null,
      "metadata": {
        "collapsed": true,
        "jupyter": {
          "source_hidden": false,
          "outputs_hidden": false
        },
        "nteract": {
          "transient": {
            "deleting": false
          }
        }
      }
    },
    {
      "cell_type": "code",
      "source": [],
      "outputs": [],
      "execution_count": null,
      "metadata": {
        "collapsed": true,
        "jupyter": {
          "source_hidden": false,
          "outputs_hidden": false
        },
        "nteract": {
          "transient": {
            "deleting": false
          }
        }
      }
    }
  ],
  "metadata": {
    "kernel_info": {
      "name": "python3"
    },
    "language_info": {
      "name": "python",
      "version": "3.7.3",
      "mimetype": "text/x-python",
      "codemirror_mode": {
        "name": "ipython",
        "version": 3
      },
      "pygments_lexer": "ipython3",
      "nbconvert_exporter": "python",
      "file_extension": ".py"
    },
    "kernelspec": {
      "argv": [
        "D:\\dev\\Anaconda3\\python.exe",
        "-m",
        "ipykernel_launcher",
        "-f",
        "{connection_file}"
      ],
      "display_name": "Python 3",
      "language": "python",
      "name": "python3"
    },
    "nteract": {
      "version": "0.25.0"
    }
  },
  "nbformat": 4,
  "nbformat_minor": 0
}