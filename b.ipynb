{
  "cells": [
    {
      "cell_type": "code",
      "source": [
        "from collections import defaultdict\n",
        "from _data import *"
      ],
      "outputs": [],
      "execution_count": 1,
      "metadata": {
        "collapsed": true,
        "jupyter": {
          "source_hidden": false,
          "outputs_hidden": true
        },
        "nteract": {
          "transient": {
            "deleting": false
          }
        },
        "execution": {
          "iopub.status.busy": "2020-09-21T21:01:19.352Z",
          "iopub.execute_input": "2020-09-21T21:01:19.357Z",
          "iopub.status.idle": "2020-09-21T21:01:21.060Z",
          "shell.execute_reply": "2020-09-21T21:01:21.044Z"
        }
      }
    },
    {
      "cell_type": "code",
      "source": [
        "treshold = 25 # from which temp we have to turn on the AC\n",
        "\n",
        "ac_temp_hours = defaultdict(int)\n",
        "temp_hours = defaultdict(int)\n",
        "\n",
        "for sensor, variables in data.items():\n",
        "  dates = [dt.date() for dt in variables['FORMATTED DATE-TIME']['values']]\n",
        "  temps = variables['Temperature']['values']\n",
        "           \n",
        "  for temp, date in zip(temps, dates):\n",
        "    temp_hours[date] += temp\n",
        "    if temp > treshold:\n",
        "       ac_temp_hours[date] += temp\n",
        "\n",
        "ac_ranking = sorted(ac_temp_hours.items(), key=lambda x: x[1])\n",
        "ranking = sorted(temp_hours.items(), key=lambda x: x[1])\n",
        "\n",
        "print('''If we turn on AC in temperatures over %s°C, \n",
        "3 most energy demanding days in time-series would be:\n",
        "''' % treshold)\n",
        "for day, temp in reversed(ac_ranking[-3:]):\n",
        "      print(day.strftime('%A %d %B %Y'), temp)\n",
        " \n",
        "print('\\nThe 3 coolest days would be:\\n')\n",
        "for day, temp in ranking[:3]:\n",
        "      print(day.strftime('%A %d %B %Y'), temp)\n",
        "           "
      ],
      "outputs": [
        {
          "output_type": "stream",
          "name": "stdout",
          "text": [
            "If we turn on AC in temperatures over 25°C, \n",
            "3 most energy demanding days in time-series would be:\n",
            "\n",
            "Wednesday 24 June 2020 5266.000000000001\n",
            "Thursday 25 June 2020 5238.5999999999985\n",
            "Friday 26 June 2020 4483.6\n",
            "\n",
            "The 3 coolest days would be:\n",
            "\n",
            "Tuesday 14 July 2020 2349.1\n",
            "Wednesday 10 June 2020 5164.900000000002\n",
            "Wednesday 08 July 2020 5190.4\n"
          ]
        }
      ],
      "execution_count": 2,
      "metadata": {
        "collapsed": true,
        "jupyter": {
          "source_hidden": false,
          "outputs_hidden": false
        },
        "nteract": {
          "transient": {
            "deleting": false
          }
        },
        "execution": {
          "iopub.status.busy": "2020-09-21T21:01:21.066Z",
          "iopub.execute_input": "2020-09-21T21:01:21.069Z",
          "iopub.status.idle": "2020-09-21T21:01:21.077Z",
          "shell.execute_reply": "2020-09-21T21:01:21.087Z"
        }
      }
    }
  ],
  "metadata": {
    "kernel_info": {
      "name": "python3"
    },
    "language_info": {
      "name": "python",
      "version": "3.7.3",
      "mimetype": "text/x-python",
      "codemirror_mode": {
        "name": "ipython",
        "version": 3
      },
      "pygments_lexer": "ipython3",
      "nbconvert_exporter": "python",
      "file_extension": ".py"
    },
    "kernelspec": {
      "argv": [
        "D:\\dev\\Anaconda3\\python.exe",
        "-m",
        "ipykernel_launcher",
        "-f",
        "{connection_file}"
      ],
      "display_name": "Python 3",
      "language": "python",
      "name": "python3"
    },
    "nteract": {
      "version": "0.25.0"
    }
  },
  "nbformat": 4,
  "nbformat_minor": 0
}