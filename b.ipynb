{
  "cells": [
    {
      "cell_type": "code",
      "source": [
        "from collections import defaultdict\n",
        "from _data import *"
      ],
      "outputs": [],
      "execution_count": 1,
      "metadata": {
        "collapsed": true,
        "jupyter": {
          "source_hidden": false,
          "outputs_hidden": true
        },
        "nteract": {
          "transient": {
            "deleting": false
          }
        },
        "execution": {
          "iopub.status.busy": "2020-09-21T20:48:14.409Z",
          "iopub.execute_input": "2020-09-21T20:48:14.413Z",
          "iopub.status.idle": "2020-09-21T20:48:16.164Z",
          "shell.execute_reply": "2020-09-21T20:48:16.293Z"
        }
      }
    },
    {
      "cell_type": "code",
      "source": [
        "treshold = 25 # from which temp we have to turn on the AC\n",
        "\n",
        "temp_hours = defaultdict(int)\n",
        "\n",
        "for sensor, variables in data.items():\n",
        "  dates = [dt.date() for dt in variables['FORMATTED DATE-TIME']['values']]\n",
        "  temps = variables['Temperature']['values']\n",
        "           \n",
        "  for temp, date in zip(temps, dates):\n",
        "    if temp > treshold:\n",
        "       temp_hours[date] += temp\n",
        "\n",
        "ranking = sorted(temp_hours.items(), key=lambda x: x[1])\n",
        "\n",
        "print('''If we turn on AC in temperatures over %s°C, \n",
        "3 most energy demanding days in time-series would be:\n",
        "''' % treshold)\n",
        "for day, temp in reversed(ranking[-3:]):\n",
        "      print(day.strftime('%A %d %B %Y'))\n",
        " \n",
        "print('\\nThe 3 least demanding days would be:\\n')\n",
        "for day, temp in ranking[:3]:\n",
        "      print(day.strftime('%A %d %B %Y'))\n",
        "           "
      ],
      "outputs": [
        {
          "output_type": "stream",
          "name": "stdout",
          "text": [
            "If we turn on AC in temperatures over 25°C, \n",
            "3 most energy demanding days in time-series would be:\n",
            "\n",
            "Wednesday 24 June 2020\n",
            "Thursday 25 June 2020\n",
            "Friday 26 June 2020\n",
            "\n",
            "The 3 least demanding days would be:\n",
            "\n",
            "Saturday 20 June 2020\n",
            "Monday 15 June 2020\n",
            "Sunday 21 June 2020\n"
          ]
        }
      ],
      "execution_count": 3,
      "metadata": {
        "collapsed": true,
        "jupyter": {
          "source_hidden": false,
          "outputs_hidden": false
        },
        "nteract": {
          "transient": {
            "deleting": false
          }
        },
        "execution": {
          "iopub.status.busy": "2020-09-21T20:48:30.665Z",
          "iopub.execute_input": "2020-09-21T20:48:30.670Z",
          "iopub.status.idle": "2020-09-21T20:48:30.682Z",
          "shell.execute_reply": "2020-09-21T20:48:30.694Z"
        }
      }
    }
  ],
  "metadata": {
    "kernel_info": {
      "name": "python3"
    },
    "language_info": {
      "name": "python",
      "version": "3.7.3",
      "mimetype": "text/x-python",
      "codemirror_mode": {
        "name": "ipython",
        "version": 3
      },
      "pygments_lexer": "ipython3",
      "nbconvert_exporter": "python",
      "file_extension": ".py"
    },
    "kernelspec": {
      "argv": [
        "D:\\dev\\Anaconda3\\python.exe",
        "-m",
        "ipykernel_launcher",
        "-f",
        "{connection_file}"
      ],
      "display_name": "Python 3",
      "language": "python",
      "name": "python3"
    },
    "nteract": {
      "version": "0.25.0"
    }
  },
  "nbformat": 4,
  "nbformat_minor": 0
}