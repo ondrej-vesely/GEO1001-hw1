{
  "cells": [
    {
      "cell_type": "code",
      "source": [
        "from collections import defaultdict\n",
        "from _data import *"
      ],
      "outputs": [],
      "execution_count": 1,
      "metadata": {
        "collapsed": true,
        "jupyter": {
          "source_hidden": false,
          "outputs_hidden": true
        },
        "nteract": {
          "transient": {
            "deleting": false
          }
        },
        "execution": {
          "iopub.status.busy": "2020-09-21T20:15:35.443Z",
          "iopub.execute_input": "2020-09-21T20:15:35.450Z",
          "iopub.status.idle": "2020-09-21T20:15:37.205Z",
          "shell.execute_reply": "2020-09-21T20:15:37.212Z"
        }
      }
    },
    {
      "cell_type": "code",
      "source": [
        "treshold = 25 # from which temp we have to turn on the AC\n",
        "\n",
        "\n",
        "ac_temp_hours = defaultdict(int)\n",
        "any_temp_hours = defaultdict(int)\n",
        "\n",
        "for sensor, variables in data.items():\n",
        "  dates = [dt.date() for dt in variables['FORMATTED DATE-TIME']['values']]\n",
        "  temps = variables['Temperature']['values']\n",
        "           \n",
        "  for temp, date in zip(temps, dates):\n",
        "    any_temp_hours[date] += temp\n",
        "    if temp > treshold:\n",
        "       ac_temp_hours[date] += temp\n",
        "\n",
        "ac_ranking = sorted(ac_temp_hours.items(), key=lambda x: x[0])\n",
        "any_ranking = sorted(any_temp_hours.items(), key=lambda x: x[0])\n",
        "\n",
        "print('''If we turn on AC in temperatures over %s°C, \n",
        "3 most energy demanding days in time-series would be:\n",
        "''' % treshold)\n",
        "for day, temp in ac_ranking[:3]:\n",
        "      print(day.strftime('%A %d %B %Y'))\n",
        "\n",
        "print('\\nThe 3 coolest days would be:\\n')\n",
        "for day, temp in any_ranking[-3:]:\n",
        "      print(day.strftime('%A %d %B %Y'))\n",
        "           "
      ],
      "outputs": [
        {
          "output_type": "stream",
          "name": "stdout",
          "text": [
            "If we turn on AC in temperatures over 25°C, \n",
            "3 most energy demanding days in time-series would be:\n",
            "\n",
            "Friday 12 June 2020\n",
            "Saturday 13 June 2020\n",
            "Sunday 14 June 2020\n",
            "\n",
            "The 3 coolest days would be:\n",
            "\n",
            "Sunday 12 July 2020\n",
            "Monday 13 July 2020\n",
            "Tuesday 14 July 2020\n"
          ]
        }
      ],
      "execution_count": 3,
      "metadata": {
        "collapsed": true,
        "jupyter": {
          "source_hidden": false,
          "outputs_hidden": false
        },
        "nteract": {
          "transient": {
            "deleting": false
          }
        },
        "execution": {
          "iopub.status.busy": "2020-09-21T20:17:29.134Z",
          "iopub.execute_input": "2020-09-21T20:17:29.139Z",
          "iopub.status.idle": "2020-09-21T20:17:29.150Z",
          "shell.execute_reply": "2020-09-21T20:17:29.160Z"
        }
      }
    }
  ],
  "metadata": {
    "kernel_info": {
      "name": "python3"
    },
    "language_info": {
      "name": "python",
      "version": "3.7.3",
      "mimetype": "text/x-python",
      "codemirror_mode": {
        "name": "ipython",
        "version": 3
      },
      "pygments_lexer": "ipython3",
      "nbconvert_exporter": "python",
      "file_extension": ".py"
    },
    "kernelspec": {
      "argv": [
        "D:\\dev\\Anaconda3\\python.exe",
        "-m",
        "ipykernel_launcher",
        "-f",
        "{connection_file}"
      ],
      "display_name": "Python 3",
      "language": "python",
      "name": "python3"
    },
    "nteract": {
      "version": "0.25.0"
    }
  },
  "nbformat": 4,
  "nbformat_minor": 0
}